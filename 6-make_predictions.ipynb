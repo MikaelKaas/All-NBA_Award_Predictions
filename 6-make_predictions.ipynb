{
 "cells": [
  {
   "cell_type": "code",
   "execution_count": 31,
   "metadata": {},
   "outputs": [],
   "source": [
    "import pandas as pd\n",
    "from sklearn.model_selection import train_test_split\n",
    "from sklearn.ensemble import RandomForestClassifier"
   ]
  },
  {
   "cell_type": "code",
   "execution_count": 32,
   "metadata": {},
   "outputs": [],
   "source": [
    "IN_DIRECTORY = 'data/final/'\n",
    "OUT_DIRECTORY = 'data/predictions/'"
   ]
  },
  {
   "cell_type": "code",
   "execution_count": 33,
   "metadata": {},
   "outputs": [],
   "source": [
    "DATA_COLUMNS = [\n",
    "    'PTS', # Points per game\n",
    "    'REB', # Rebounds per game\n",
    "    'AST', # Assists per game\n",
    "    'STL', # Steals per game\n",
    "    'BLK', # Blocks per game\n",
    "    'OFF_RATING', # Offensive Rating\n",
    "    'DEF_RATING', # Defensive Rating\n",
    "    'TS_PCT', # True Shooting percentage\n",
    "    'USG_PCT', # Usage percentage\n",
    "    'PIE', # Player Impact Estimate\n",
    "    'WS', # Win Shares\n",
    "    'PER' # Player Efficiency Rating\n",
    "]"
   ]
  },
  {
   "cell_type": "code",
   "execution_count": 34,
   "metadata": {},
   "outputs": [],
   "source": [
    "# get training data\n",
    "train = pd.read_csv(IN_DIRECTORY + 'player_stats_training.csv')"
   ]
  },
  {
   "cell_type": "code",
   "execution_count": 40,
   "metadata": {},
   "outputs": [
    {
     "name": "stdout",
     "output_type": "stream",
     "text": [
      "Score: 0.9844003899902503\n"
     ]
    }
   ],
   "source": [
    "# use Random Forest Classifier\n",
    "X = train[DATA_COLUMNS]\n",
    "y = train['ALL_NBA']\n",
    "\n",
    "X_train, X_valid, y_train, y_valid = train_test_split(X, y)\n",
    "\n",
    "rfModel = RandomForestClassifier(n_estimators=200)#, min_samples_leaf=5)\n",
    "rfModel.fit(X_train, y_train)\n",
    "\n",
    "print(\"Score:\", rfModel.score(X_valid, y_valid))\n"
   ]
  },
  {
   "cell_type": "code",
   "execution_count": 36,
   "metadata": {},
   "outputs": [],
   "source": [
    "# get data for the 2022_23 to make predictions on\n",
    "playerStats2022_23 = pd.read_csv(IN_DIRECTORY + 'player_stats_2022-23.csv')\n",
    "\n",
    "allNBAwinners = playerStats2022_23['ALL_NBA']"
   ]
  }
 ],
 "metadata": {
  "kernelspec": {
   "display_name": "base",
   "language": "python",
   "name": "python3"
  },
  "language_info": {
   "codemirror_mode": {
    "name": "ipython",
    "version": 3
   },
   "file_extension": ".py",
   "mimetype": "text/x-python",
   "name": "python",
   "nbconvert_exporter": "python",
   "pygments_lexer": "ipython3",
   "version": "3.11.5"
  }
 },
 "nbformat": 4,
 "nbformat_minor": 2
}
